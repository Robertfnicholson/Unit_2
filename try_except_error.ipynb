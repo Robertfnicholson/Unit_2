{
 "cells": [
  {
   "cell_type": "code",
   "execution_count": 15,
   "id": "dca9fcdf",
   "metadata": {},
   "outputs": [
    {
     "ename": "SyntaxError",
     "evalue": "invalid syntax (Temp/ipykernel_3992/2324942765.py, line 9)",
     "output_type": "error",
     "traceback": [
      "\u001b[1;36m  File \u001b[1;32m\"C:\\Users\\rfnichol\\AppData\\Local\\Temp/ipykernel_3992/2324942765.py\"\u001b[1;36m, line \u001b[1;32m9\u001b[0m\n\u001b[1;33m    print(\"I think her name was \" + \" + name + \"?\")\u001b[0m\n\u001b[1;37m                                                ^\u001b[0m\n\u001b[1;31mSyntaxError\u001b[0m\u001b[1;31m:\u001b[0m invalid syntax\n"
     ]
    }
   ],
   "source": [
    "# Add the correct exception error so that when the code is run you get the last line to print to the terminal.\n",
    "names = []\n",
    "for name in names:\n",
    "\n",
    "    try:\n",
    "        print(\"Infinity looks like + \" + str(10 / 0) + \".\")\n",
    "    except SyntaxError:\n",
    "        try:\n",
    "            print(\"I think her name was \" + \" + name + \"?\")"
   ]
  },
  {
   "cell_type": "code",
   "execution_count": null,
   "id": "f4a332d1",
   "metadata": {},
   "outputs": [],
   "source": [
    "\n",
    "#        \n",
    "#    except SyntaxError:\n",
    "#        try:\n",
    "#            print(\"Your name is a nonsense number. Look: \" + int(\"Gabriel\")) "
   ]
  },
  {
   "cell_type": "code",
   "execution_count": 9,
   "id": "4b8be0d2",
   "metadata": {},
   "outputs": [
    {
     "ename": "SyntaxError",
     "evalue": "unexpected EOF while parsing (Temp/ipykernel_3992/2635020817.py, line 2)",
     "output_type": "error",
     "traceback": [
      "\u001b[1;36m  File \u001b[1;32m\"C:\\Users\\rfnichol\\AppData\\Local\\Temp/ipykernel_3992/2635020817.py\"\u001b[1;36m, line \u001b[1;32m2\u001b[0m\n\u001b[1;33m    print(\"Your name is a nonsense number. Look: \" + int(\"Gabriel\"))\u001b[0m\n\u001b[1;37m                                                                     ^\u001b[0m\n\u001b[1;31mSyntaxError\u001b[0m\u001b[1;31m:\u001b[0m unexpected EOF while parsing\n"
     ]
    }
   ],
   "source": [
    "try:\n",
    "    print(\"Your name is a nonsense number. Look: \" + int(\"Gabriel\")) "
   ]
  },
  {
   "cell_type": "code",
   "execution_count": null,
   "id": "0f985de9",
   "metadata": {},
   "outputs": [],
   "source": []
  }
 ],
 "metadata": {
  "kernelspec": {
   "display_name": "PythonData",
   "language": "python",
   "name": "pythondata"
  },
  "language_info": {
   "codemirror_mode": {
    "name": "ipython",
    "version": 3
   },
   "file_extension": ".py",
   "mimetype": "text/x-python",
   "name": "python",
   "nbconvert_exporter": "python",
   "pygments_lexer": "ipython3",
   "version": "3.7.11"
  }
 },
 "nbformat": 4,
 "nbformat_minor": 5
}
