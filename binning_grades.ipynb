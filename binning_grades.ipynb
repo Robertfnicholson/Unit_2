{
 "cells": [
  {
   "cell_type": "code",
   "execution_count": 9,
   "id": "283bbdfd",
   "metadata": {},
   "outputs": [],
   "source": [
    "# Import dependencies\n",
    "import pandas as pd\n",
    "\n",
    "# Complete the code that will create a new column “Letter Grade” based on the four bins and labels\n",
    "\n",
    "test_grades = {\n",
    "    'Class': ['Oct', 'Oct', 'Jan', 'Jan', 'Oct', 'Jan'], \n",
    "    'Name': [\"Cyndy\", \"Logan\", \"Laci\", \"Elmer\", \"Crystle\", \"Emmie\"], \n",
    "    'Test Score': [90, 59, 72, 88, 98, 60]}\n"
   ]
  },
  {
   "cell_type": "code",
   "execution_count": 10,
   "id": "487b601e",
   "metadata": {},
   "outputs": [],
   "source": [
    "# 1  Create a DataFrame from the “test_grades” dictionary. \n",
    "df = test_grades"
   ]
  },
  {
   "cell_type": "code",
   "execution_count": 11,
   "id": "27688c97",
   "metadata": {},
   "outputs": [],
   "source": [
    "# 2  Create bins, 0, 59, 69, 79, 89, 100, to hold the data.\n",
    "bins = [0, 59, 69, 79, 89, 100]"
   ]
  },
  {
   "cell_type": "code",
   "execution_count": 12,
   "id": "7a5fd760",
   "metadata": {},
   "outputs": [],
   "source": [
    "# 3  Assign a letter grade, as “letter_grades”, for the four bins as the labels.\n",
    "letter_grades = [\"F\", \"D\", \"C\", \"B\", \"A\"]"
   ]
  },
  {
   "cell_type": "code",
   "execution_count": 17,
   "id": "a742de44",
   "metadata": {},
   "outputs": [
    {
     "name": "stdout",
     "output_type": "stream",
     "text": [
      "{'Class': ['Oct', 'Oct', 'Jan', 'Jan', 'Oct', 'Jan'], 'Name': ['Cyndy', 'Logan', 'Laci', 'Elmer', 'Crystle', 'Emmie'], 'Test Score': [90, 59, 72, 88, 98, 60], 'Letter Grade': ['A', 'F', 'C', 'B', 'A', 'D']\n",
      "Categories (5, object): ['F' < 'D' < 'C' < 'B' < 'A']}\n"
     ]
    }
   ],
   "source": [
    "# pd.cut(df[\"Final Exam\"], bins, labels=group_names).head(10)\n",
    "df[\"Letter Grade\"] = pd.cut(df[\"Test Score\"], bins, labels=letter_grades)\n",
    "print(df)"
   ]
  },
  {
   "cell_type": "code",
   "execution_count": null,
   "id": "be45bcaa",
   "metadata": {},
   "outputs": [],
   "source": []
  }
 ],
 "metadata": {
  "kernelspec": {
   "display_name": "PythonData",
   "language": "python",
   "name": "pythondata"
  },
  "language_info": {
   "codemirror_mode": {
    "name": "ipython",
    "version": 3
   },
   "file_extension": ".py",
   "mimetype": "text/x-python",
   "name": "python",
   "nbconvert_exporter": "python",
   "pygments_lexer": "ipython3",
   "version": "3.7.11"
  }
 },
 "nbformat": 4,
 "nbformat_minor": 5
}
