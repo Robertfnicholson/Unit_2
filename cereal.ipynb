{
 "cells": [
  {
   "cell_type": "code",
   "execution_count": 1,
   "id": "f9747325",
   "metadata": {},
   "outputs": [],
   "source": [
    "# import dependencies\n",
    "import os\n",
    "import csv\n",
    "import pandas as pd"
   ]
  },
  {
   "cell_type": "code",
   "execution_count": 2,
   "id": "5c5c3e47",
   "metadata": {},
   "outputs": [],
   "source": [
    "# set path for file\n",
    "cereal_csv = os.path.join('/Users/rfnichol', 'cereal.csv')"
   ]
  },
  {
   "cell_type": "code",
   "execution_count": 11,
   "id": "a0efe621",
   "metadata": {},
   "outputs": [
    {
     "name": "stdout",
     "output_type": "stream",
     "text": [
      "100% Bran\n",
      "All-Bran\n",
      "All-Bran with Extra Fiber\n",
      "Bran Flakes\n",
      "Fruit & Fibre Dates; Walnuts; and Oats\n",
      "Fruitful Bran\n",
      "Post Nat. Raisin Bran\n",
      "Raisin Bran\n"
     ]
    }
   ],
   "source": [
    "# Open the csv\n",
    "with open(cereal_csv, newline=\"\") as csvfile:\n",
    "    csvreader = csv.reader(csvfile, delimiter=\",\")\n",
    "    \n",
    "    csv_header = next(csvfile)\n",
    "    \n",
    "    for row in csvreader:\n",
    "        if float(row[7])>=5:\n",
    "            print(row[0])"
   ]
  },
  {
   "cell_type": "code",
   "execution_count": null,
   "id": "80399019",
   "metadata": {},
   "outputs": [],
   "source": []
  }
 ],
 "metadata": {
  "kernelspec": {
   "display_name": "PythonData",
   "language": "python",
   "name": "pythondata"
  },
  "language_info": {
   "codemirror_mode": {
    "name": "ipython",
    "version": 3
   },
   "file_extension": ".py",
   "mimetype": "text/x-python",
   "name": "python",
   "nbconvert_exporter": "python",
   "pygments_lexer": "ipython3",
   "version": "3.7.11"
  }
 },
 "nbformat": 4,
 "nbformat_minor": 5
}
