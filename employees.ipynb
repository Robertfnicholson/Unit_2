{
 "cells": [
  {
   "cell_type": "code",
   "execution_count": 6,
   "id": "ef608a1b",
   "metadata": {},
   "outputs": [],
   "source": [
    "import os\n",
    "import csv"
   ]
  },
  {
   "cell_type": "code",
   "execution_count": 7,
   "id": "62f9bf23",
   "metadata": {},
   "outputs": [],
   "source": [
    "file_to_save = os.path.join(\"output\", \"employees.txt\")"
   ]
  },
  {
   "cell_type": "code",
   "execution_count": 10,
   "id": "827e30ac",
   "metadata": {},
   "outputs": [],
   "source": [
    "with open(file_to_save, \"w\") as new_file:\n",
    "        employees = (\n",
    "            f\"First Name', 'Last Name', 'SSN\\n\"\n",
    "            f\"Caleb', 'Frost', '505-80-2901\\n\")\n",
    "        \n",
    "        new_file.write(employees)"
   ]
  },
  {
   "cell_type": "code",
   "execution_count": null,
   "id": "055c8412",
   "metadata": {},
   "outputs": [],
   "source": []
  }
 ],
 "metadata": {
  "kernelspec": {
   "display_name": "PythonData",
   "language": "python",
   "name": "pythondata"
  },
  "language_info": {
   "codemirror_mode": {
    "name": "ipython",
    "version": 3
   },
   "file_extension": ".py",
   "mimetype": "text/x-python",
   "name": "python",
   "nbconvert_exporter": "python",
   "pygments_lexer": "ipython3",
   "version": "3.7.11"
  }
 },
 "nbformat": 4,
 "nbformat_minor": 5
}
