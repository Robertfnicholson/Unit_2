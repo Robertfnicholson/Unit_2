{
 "cells": [
  {
   "cell_type": "code",
   "execution_count": 1,
   "id": "34b278f9",
   "metadata": {},
   "outputs": [],
   "source": [
    "# import dependencies\n",
    "import numpy as np\n",
    "import pandas as pd"
   ]
  },
  {
   "cell_type": "code",
   "execution_count": 2,
   "id": "29d1e904",
   "metadata": {},
   "outputs": [],
   "source": [
    "import requests\n",
    "url = \"https://api.spacexdata.com/v2/launchpads\""
   ]
  },
  {
   "cell_type": "code",
   "execution_count": 3,
   "id": "49fba8e1",
   "metadata": {},
   "outputs": [],
   "source": [
    "# request to specex\n",
    "response = requests.get(url)\n",
    "response_json = response.json()"
   ]
  },
  {
   "cell_type": "code",
   "execution_count": 4,
   "id": "4ce503ef",
   "metadata": {},
   "outputs": [
    {
     "name": "stdout",
     "output_type": "stream",
     "text": [
      "[{'padid': 5, 'id': 'vafb_slc_3w', 'name': 'VAFB SLC 3W', 'full_name': 'Vandenberg Air Force Base Space Launch Complex 3W', 'status': 'retired', 'location': {'name': 'Vandenberg Air Force Base', 'region': 'California', 'latitude': 34.6440904, 'longitude': -120.5931438}, 'vehicles_launched': ['Falcon 1'], 'attempted_launches': 0, 'successful_launches': 0, 'wikipedia': 'https://en.wikipedia.org/wiki/Vandenberg_AFB_Space_Launch_Complex_3', 'details': 'SpaceX original west coast launch pad for Falcon 1. Performed a static fire but was never used for a launch and abandoned due to scheduling conflicts.'}, {'padid': 2, 'id': 'ccafs_slc_40', 'name': 'CCAFS SLC 40', 'full_name': 'Cape Canaveral Air Force Station Space Launch Complex 40', 'status': 'active', 'location': {'name': 'Cape Canaveral', 'region': 'Florida', 'latitude': 28.5618571, 'longitude': -80.577366}, 'vehicles_launched': ['Falcon 9'], 'attempted_launches': 61, 'successful_launches': 59, 'wikipedia': 'https://en.wikipedia.org/wiki/Cape_Canaveral_Air_Force_Station_Space_Launch_Complex_40', 'details': 'SpaceX primary Falcon 9 launch pad, where all east coast Falcon 9s launched prior to the AMOS-6 anomaly. Initially used to launch Titan rockets for Lockheed Martin. Back online since CRS-13 on 2017-12-15.'}, {'padid': 8, 'id': 'stls', 'name': 'STLS', 'full_name': 'SpaceX South Texas Launch Site', 'status': 'under construction', 'location': {'name': 'Boca Chica Village', 'region': 'Texas', 'latitude': 25.9972641, 'longitude': -97.1560845}, 'vehicles_launched': ['Falcon 9'], 'attempted_launches': 0, 'successful_launches': 0, 'wikipedia': 'https://en.wikipedia.org/wiki/SpaceX_South_Texas_Launch_Site', 'details': 'SpaceX new launch site currently under construction to help keep up with the Falcon 9 and Heavy manifests. Expected to be completed in late 2018. Initially will be limited to 12 flights per year, and only GTO launches.'}, {'padid': 1, 'id': 'kwajalein_atoll', 'name': 'Kwajalein Atoll', 'full_name': 'Kwajalein Atoll Omelek Island', 'status': 'retired', 'location': {'name': 'Omelek Island', 'region': 'Marshall Islands', 'latitude': 9.0477206, 'longitude': 167.7431292}, 'vehicles_launched': ['Falcon 1'], 'attempted_launches': 5, 'successful_launches': 2, 'wikipedia': 'https://en.wikipedia.org/wiki/Omelek_Island', 'details': 'SpaceX original launch site, where all of the Falcon 1 launches occured. Abandoned as SpaceX decided against upgrading the pad to support Falcon 9.'}, {'padid': 6, 'id': 'vafb_slc_4e', 'name': 'VAFB SLC 4E', 'full_name': 'Vandenberg Air Force Base Space Launch Complex 4E', 'status': 'active', 'location': {'name': 'Vandenberg Air Force Base', 'region': 'California', 'latitude': 34.632093, 'longitude': -120.610829}, 'vehicles_launched': ['Falcon 9'], 'attempted_launches': 16, 'successful_launches': 16, 'wikipedia': 'https://en.wikipedia.org/wiki/Vandenberg_AFB_Space_Launch_Complex_4', 'details': 'SpaceX primary west coast launch pad for polar orbits and sun synchronous orbits, primarily used for Iridium. Also intended to be capable of launching Falcon Heavy.'}, {'padid': 4, 'id': 'ksc_lc_39a', 'name': 'KSC LC 39A', 'full_name': 'Kennedy Space Center Historic Launch Complex 39A', 'status': 'active', 'location': {'name': 'Cape Canaveral', 'region': 'Florida', 'latitude': 28.6080585, 'longitude': -80.6039558}, 'vehicles_launched': ['Falcon 9', 'Falcon Heavy'], 'attempted_launches': 27, 'successful_launches': 26, 'wikipedia': 'https://en.wikipedia.org/wiki/Kennedy_Space_Center_Launch_Complex_39#Launch_Complex_39A', 'details': 'NASA historic launch pad that launched most of the Saturn V and Space Shuttle missions. Initially for Falcon Heavy launches, it is now launching all of SpaceX east coast missions due to the damage from the AMOS-6 anomaly. After SLC-40 repairs are complete, it will be upgraded to support Falcon Heavy, a process which will take about two months. In the future it will launch commercial crew missions and the Interplanetary Transport System.'}]\n"
     ]
    }
   ],
   "source": [
    " print(response_json)"
   ]
  },
  {
   "cell_type": "code",
   "execution_count": 5,
   "id": "d8584fa9",
   "metadata": {},
   "outputs": [
    {
     "data": {
      "text/plain": [
       "6"
      ]
     },
     "execution_count": 5,
     "metadata": {},
     "output_type": "execute_result"
    }
   ],
   "source": [
    "# What is the length of the JSON file after you make the request?\n",
    "len(response_json)"
   ]
  },
  {
   "cell_type": "code",
   "execution_count": 12,
   "id": "cffb5835",
   "metadata": {},
   "outputs": [
    {
     "data": {
      "text/plain": [
       "{'padid': 5,\n",
       " 'id': 'vafb_slc_3w',\n",
       " 'name': 'VAFB SLC 3W',\n",
       " 'full_name': 'Vandenberg Air Force Base Space Launch Complex 3W',\n",
       " 'status': 'retired',\n",
       " 'location': {'name': 'Vandenberg Air Force Base',\n",
       "  'region': 'California',\n",
       "  'latitude': 34.6440904,\n",
       "  'longitude': -120.5931438},\n",
       " 'vehicles_launched': ['Falcon 1'],\n",
       " 'attempted_launches': 0,\n",
       " 'successful_launches': 0,\n",
       " 'wikipedia': 'https://en.wikipedia.org/wiki/Vandenberg_AFB_Space_Launch_Complex_3',\n",
       " 'details': 'SpaceX original west coast launch pad for Falcon 1. Performed a static fire but was never used for a launch and abandoned due to scheduling conflicts.'}"
      ]
     },
     "execution_count": 12,
     "metadata": {},
     "output_type": "execute_result"
    }
   ],
   "source": [
    "# Isolate \"data items\" for easy reading\n",
    "full_names = response_json[0]\n",
    "\n",
    "full_names"
   ]
  },
  {
   "cell_type": "code",
   "execution_count": 13,
   "id": "9c4f7942",
   "metadata": {},
   "outputs": [
    {
     "data": {
      "text/plain": [
       "{'padid': 2,\n",
       " 'id': 'ccafs_slc_40',\n",
       " 'name': 'CCAFS SLC 40',\n",
       " 'full_name': 'Cape Canaveral Air Force Station Space Launch Complex 40',\n",
       " 'status': 'active',\n",
       " 'location': {'name': 'Cape Canaveral',\n",
       "  'region': 'Florida',\n",
       "  'latitude': 28.5618571,\n",
       "  'longitude': -80.577366},\n",
       " 'vehicles_launched': ['Falcon 9'],\n",
       " 'attempted_launches': 61,\n",
       " 'successful_launches': 59,\n",
       " 'wikipedia': 'https://en.wikipedia.org/wiki/Cape_Canaveral_Air_Force_Station_Space_Launch_Complex_40',\n",
       " 'details': 'SpaceX primary Falcon 9 launch pad, where all east coast Falcon 9s launched prior to the AMOS-6 anomaly. Initially used to launch Titan rockets for Lockheed Martin. Back online since CRS-13 on 2017-12-15.'}"
      ]
     },
     "execution_count": 13,
     "metadata": {},
     "output_type": "execute_result"
    }
   ],
   "source": [
    "# Isolate \"data items\" for easy reading\n",
    "full_names = response_json[1]\n",
    "\n",
    "full_names"
   ]
  },
  {
   "cell_type": "code",
   "execution_count": 14,
   "id": "15833545",
   "metadata": {},
   "outputs": [
    {
     "data": {
      "text/plain": [
       "{'padid': 8,\n",
       " 'id': 'stls',\n",
       " 'name': 'STLS',\n",
       " 'full_name': 'SpaceX South Texas Launch Site',\n",
       " 'status': 'under construction',\n",
       " 'location': {'name': 'Boca Chica Village',\n",
       "  'region': 'Texas',\n",
       "  'latitude': 25.9972641,\n",
       "  'longitude': -97.1560845},\n",
       " 'vehicles_launched': ['Falcon 9'],\n",
       " 'attempted_launches': 0,\n",
       " 'successful_launches': 0,\n",
       " 'wikipedia': 'https://en.wikipedia.org/wiki/SpaceX_South_Texas_Launch_Site',\n",
       " 'details': 'SpaceX new launch site currently under construction to help keep up with the Falcon 9 and Heavy manifests. Expected to be completed in late 2018. Initially will be limited to 12 flights per year, and only GTO launches.'}"
      ]
     },
     "execution_count": 14,
     "metadata": {},
     "output_type": "execute_result"
    }
   ],
   "source": [
    "# Isolate \"data items\" for easy reading\n",
    "full_names = response_json[2]\n",
    "\n",
    "full_names"
   ]
  },
  {
   "cell_type": "code",
   "execution_count": 15,
   "id": "17c47d0e",
   "metadata": {},
   "outputs": [
    {
     "data": {
      "text/plain": [
       "{'padid': 1,\n",
       " 'id': 'kwajalein_atoll',\n",
       " 'name': 'Kwajalein Atoll',\n",
       " 'full_name': 'Kwajalein Atoll Omelek Island',\n",
       " 'status': 'retired',\n",
       " 'location': {'name': 'Omelek Island',\n",
       "  'region': 'Marshall Islands',\n",
       "  'latitude': 9.0477206,\n",
       "  'longitude': 167.7431292},\n",
       " 'vehicles_launched': ['Falcon 1'],\n",
       " 'attempted_launches': 5,\n",
       " 'successful_launches': 2,\n",
       " 'wikipedia': 'https://en.wikipedia.org/wiki/Omelek_Island',\n",
       " 'details': 'SpaceX original launch site, where all of the Falcon 1 launches occured. Abandoned as SpaceX decided against upgrading the pad to support Falcon 9.'}"
      ]
     },
     "execution_count": 15,
     "metadata": {},
     "output_type": "execute_result"
    }
   ],
   "source": [
    "# Isolate \"data items\" for easy reading\n",
    "full_names = response_json[3]\n",
    "\n",
    "full_names"
   ]
  },
  {
   "cell_type": "code",
   "execution_count": 16,
   "id": "39b79278",
   "metadata": {},
   "outputs": [
    {
     "data": {
      "text/plain": [
       "{'padid': 6,\n",
       " 'id': 'vafb_slc_4e',\n",
       " 'name': 'VAFB SLC 4E',\n",
       " 'full_name': 'Vandenberg Air Force Base Space Launch Complex 4E',\n",
       " 'status': 'active',\n",
       " 'location': {'name': 'Vandenberg Air Force Base',\n",
       "  'region': 'California',\n",
       "  'latitude': 34.632093,\n",
       "  'longitude': -120.610829},\n",
       " 'vehicles_launched': ['Falcon 9'],\n",
       " 'attempted_launches': 16,\n",
       " 'successful_launches': 16,\n",
       " 'wikipedia': 'https://en.wikipedia.org/wiki/Vandenberg_AFB_Space_Launch_Complex_4',\n",
       " 'details': 'SpaceX primary west coast launch pad for polar orbits and sun synchronous orbits, primarily used for Iridium. Also intended to be capable of launching Falcon Heavy.'}"
      ]
     },
     "execution_count": 16,
     "metadata": {},
     "output_type": "execute_result"
    }
   ],
   "source": [
    "# Isolate \"data items\" for easy reading\n",
    "full_names = response_json[4]\n",
    "\n",
    "full_names"
   ]
  },
  {
   "cell_type": "code",
   "execution_count": 17,
   "id": "bc25b263",
   "metadata": {},
   "outputs": [
    {
     "data": {
      "text/plain": [
       "{'padid': 4,\n",
       " 'id': 'ksc_lc_39a',\n",
       " 'name': 'KSC LC 39A',\n",
       " 'full_name': 'Kennedy Space Center Historic Launch Complex 39A',\n",
       " 'status': 'active',\n",
       " 'location': {'name': 'Cape Canaveral',\n",
       "  'region': 'Florida',\n",
       "  'latitude': 28.6080585,\n",
       "  'longitude': -80.6039558},\n",
       " 'vehicles_launched': ['Falcon 9', 'Falcon Heavy'],\n",
       " 'attempted_launches': 27,\n",
       " 'successful_launches': 26,\n",
       " 'wikipedia': 'https://en.wikipedia.org/wiki/Kennedy_Space_Center_Launch_Complex_39#Launch_Complex_39A',\n",
       " 'details': 'NASA historic launch pad that launched most of the Saturn V and Space Shuttle missions. Initially for Falcon Heavy launches, it is now launching all of SpaceX east coast missions due to the damage from the AMOS-6 anomaly. After SLC-40 repairs are complete, it will be upgraded to support Falcon Heavy, a process which will take about two months. In the future it will launch commercial crew missions and the Interplanetary Transport System.'}"
      ]
     },
     "execution_count": 17,
     "metadata": {},
     "output_type": "execute_result"
    }
   ],
   "source": [
    "# Isolate \"data items\" for easy reading\n",
    "full_names = response_json[5]\n",
    "\n",
    "full_names"
   ]
  },
  {
   "cell_type": "code",
   "execution_count": 6,
   "id": "508cf65e",
   "metadata": {},
   "outputs": [
    {
     "ename": "TypeError",
     "evalue": "'list' object is not callable",
     "output_type": "error",
     "traceback": [
      "\u001b[1;31m---------------------------------------------------------------------------\u001b[0m",
      "\u001b[1;31mTypeError\u001b[0m                                 Traceback (most recent call last)",
      "\u001b[1;32m~\\AppData\\Local\\Temp/ipykernel_19548/3631135266.py\u001b[0m in \u001b[0;36m<module>\u001b[1;34m\u001b[0m\n\u001b[0;32m      1\u001b[0m \u001b[1;31m# get full_name from json response\u001b[0m\u001b[1;33m\u001b[0m\u001b[1;33m\u001b[0m\u001b[1;33m\u001b[0m\u001b[0m\n\u001b[1;32m----> 2\u001b[1;33m \u001b[0mfull_names\u001b[0m \u001b[1;33m=\u001b[0m \u001b[0mresponse_json\u001b[0m\u001b[1;33m(\u001b[0m\u001b[1;33m)\u001b[0m\u001b[1;33m\u001b[0m\u001b[1;33m\u001b[0m\u001b[0m\n\u001b[0m",
      "\u001b[1;31mTypeError\u001b[0m: 'list' object is not callable"
     ]
    }
   ],
   "source": [
    "# get full_name from json response\n",
    "response = requests.get(url)\n",
    "response_json = response.json()\n",
    "full_names = response_json()\n"
   ]
  },
  {
   "cell_type": "code",
   "execution_count": null,
   "id": "9a8b2780",
   "metadata": {},
   "outputs": [],
   "source": [
    "# Using a for loop, what is the order of the \"full name\" of each launch site in the JSON file when printed to the output \n",
    "# cell? \n",
    "# 1 Set empty list to hold the full name\n",
    "full_names = []\n",
    "\n",
    "# 2 loop through the list of full_names\n",
    "for full_names in full_name\n",
    "\n",
    "    # Build query URL \n",
    "    url = \"https://api.spacexdata.com/v2/launchpads\"\n",
    "\n",
    "    # Get API request\n",
    "    response = requests.get(url)\n",
    "    response_json = response.json()\n",
    "    \n",
    "    # Get full names from json response\n",
    "    full_name = response.json[{'full_name'}]\n",
    "    \n",
    "    full_names.append(full_name)\n",
    "    \n",
    "print(f\"{full_names}\")\n",
    "    \n",
    "    "
   ]
  },
  {
   "cell_type": "code",
   "execution_count": null,
   "id": "399474cb",
   "metadata": {},
   "outputs": [],
   "source": []
  }
 ],
 "metadata": {
  "kernelspec": {
   "display_name": "PythonData",
   "language": "python",
   "name": "pythondata"
  },
  "language_info": {
   "codemirror_mode": {
    "name": "ipython",
    "version": 3
   },
   "file_extension": ".py",
   "mimetype": "text/x-python",
   "name": "python",
   "nbconvert_exporter": "python",
   "pygments_lexer": "ipython3",
   "version": "3.7.11"
  }
 },
 "nbformat": 4,
 "nbformat_minor": 5
}
